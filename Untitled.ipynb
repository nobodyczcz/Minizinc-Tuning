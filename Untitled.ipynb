{
 "cells": [
  {
   "cell_type": "code",
   "execution_count": 12,
   "metadata": {},
   "outputs": [],
   "source": [
    "from process_instance import process_instance\n",
    "from process_thread import process_thread\n",
    "from pre_run_timecheck import instance_runtime\n",
    "from cplex_pSMAC_config_generator import *\n",
    "from psmac_execution import *\n",
    "from keyboardInterruptHandler import *"
   ]
  },
  {
   "cell_type": "code",
   "execution_count": null,
   "metadata": {},
   "outputs": [],
   "source": [
    "(n_SMAC, n_MINIZINC) = process_thread(n_thread=1)\n",
    "\n",
    "instanceList = process_instance(ins_list='', ins_path='')\n",
    "\n",
    "cutoff_time = instance_runtime(instanceList, n_thread, param_config_space, flag) * 5\n",
    "\n",
    "pSMAC_wrapper_generator(n_SMAC, n_MINIZINC)\n",
    "\n",
    "pSMAC_scenario_generator(n_SMAC, param_config_space, cutoff_time, wallclock_limit)\n",
    "\n",
    "cmd = psmac_args(n_SMAC, flag, verbose=False)\n",
    "\n",
    "psamc_exe(cmd, n_SMAC, flag, verbose=False)\n",
    "\n",
    "signal.signal(signal.SIGINT, keyboardInterruptHandler(signal, instanceList))\n",
    "\n",
    "remove_tmp_files(instanceList)"
   ]
  },
  {
   "cell_type": "code",
   "execution_count": null,
   "metadata": {},
   "outputs": [],
   "source": [
    "from subprocess import Popen, PIPE"
   ]
  },
  {
   "cell_type": "code",
   "execution_count": 10,
   "metadata": {},
   "outputs": [],
   "source": [
    "a = 'model1.mzn data1.dzn data2.dzn model2.mzn data3.dzn model3.mzn data4.dzn'"
   ]
  },
  {
   "cell_type": "code",
   "execution_count": 2,
   "metadata": {},
   "outputs": [],
   "source": [
    "import re"
   ]
  },
  {
   "cell_type": "code",
   "execution_count": 3,
   "metadata": {},
   "outputs": [
    {
     "data": {
      "text/plain": [
       "'ewaf.mzn wafw.dzn rwa.dzn rew.mzn trewt.dzn rewa.mzn rwa.dzn'"
      ]
     },
     "execution_count": 3,
     "metadata": {},
     "output_type": "execute_result"
    }
   ],
   "source": [
    "re.search('([^\\.]+\\.mzn( [^\\.]+\\.dzn)+)+', a).group()"
   ]
  },
  {
   "cell_type": "code",
   "execution_count": 11,
   "metadata": {},
   "outputs": [
    {
     "data": {
      "text/plain": [
       "['model1.mzn data1.dzn data2.dzn',\n",
       " 'model2.mzn data3.dzn',\n",
       " 'model3.mzn data4.dzn']"
      ]
     },
     "execution_count": 11,
     "metadata": {},
     "output_type": "execute_result"
    }
   ],
   "source": [
    "re.findall('([^\\s\\.]+\\.mzn(?:\\s[^\\.]+\\.dzn)+)+', a)"
   ]
  },
  {
   "cell_type": "code",
   "execution_count": 14,
   "metadata": {},
   "outputs": [
    {
     "name": "stdout",
     "output_type": "stream",
     "text": [
      "fgfds\n",
      "fgdfgs\n",
      "gfdgd\n",
      "\n"
     ]
    }
   ],
   "source": [
    "print(b'fgfds\\nfgdfgs\\ngfdgd\\n'.decode('utf-8'))"
   ]
  },
  {
   "cell_type": "code",
   "execution_count": 15,
   "metadata": {},
   "outputs": [],
   "source": [
    "import psutil"
   ]
  },
  {
   "cell_type": "code",
   "execution_count": null,
   "metadata": {},
   "outputs": [],
   "source": []
  }
 ],
 "metadata": {
  "kernelspec": {
   "display_name": "Python 3",
   "language": "python",
   "name": "python3"
  },
  "language_info": {
   "codemirror_mode": {
    "name": "ipython",
    "version": 3
   },
   "file_extension": ".py",
   "mimetype": "text/x-python",
   "name": "python",
   "nbconvert_exporter": "python",
   "pygments_lexer": "ipython3",
   "version": "3.7.0"
  }
 },
 "nbformat": 4,
 "nbformat_minor": 2
}
