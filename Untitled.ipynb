{
 "cells": [
  {
   "cell_type": "code",
   "execution_count": 22,
   "metadata": {},
   "outputs": [],
   "source": [
    "from process_instance import process_instance\n",
    "from process_thread import process_thread\n",
    "from pre_run_timecheck import instance_runtime\n",
    "from cplex_pSMAC_config_generator import *\n",
    "from psmac_execution import psamc_exe"
   ]
  },
  {
   "cell_type": "code",
   "execution_count": null,
   "metadata": {},
   "outputs": [],
   "source": [
    "#process_thread(n_thread=1)\n",
    "\n",
    "#instance_runtime(process_instance(ins_list='', ins_path=''), n_thread, param_config_space, flag)\n",
    "\n",
    "#pSMAC_wrapper_generator(n_SMAC, n_MINIZINC)\n",
    "\n",
    "#pSMAC_scenario_generator(n_SMAC, param_config_space, cutoff_time, wallclock_limit)\n",
    "\n",
    "#psamc_exe(cmd, n_SMAC, flag, verbose=False)"
   ]
  }
 ],
 "metadata": {
  "kernelspec": {
   "display_name": "Python 3",
   "language": "python",
   "name": "python3"
  },
  "language_info": {
   "codemirror_mode": {
    "name": "ipython",
    "version": 3
   },
   "file_extension": ".py",
   "mimetype": "text/x-python",
   "name": "python",
   "nbconvert_exporter": "python",
   "pygments_lexer": "ipython3",
   "version": "3.7.0"
  }
 },
 "nbformat": 4,
 "nbformat_minor": 2
}
