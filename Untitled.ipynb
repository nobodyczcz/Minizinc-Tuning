{
 "cells": [
  {
   "cell_type": "code",
   "execution_count": 1,
   "metadata": {},
   "outputs": [],
   "source": [
    "from process_instance import process_instance\n",
    "from process_thread import process_thread\n",
    "from pre_run_timecheck import instance_runtime\n",
    "from cplex_pSMAC_config_generator import *\n",
    "from psmac_execution import *\n",
    "from keyboardInterruptHandler import *"
   ]
  },
  {
   "cell_type": "code",
   "execution_count": null,
   "metadata": {},
   "outputs": [],
   "source": [
    "(n_SMAC, n_MINIZINC) = process_thread(n_thread=1)\n",
    "\n",
    "instanceList = process_instance(ins_list='', ins_path='')\n",
    "\n",
    "cutoff_time = instance_runtime(instanceList, n_thread, param_config_space, flag) * 5\n",
    "\n",
    "pSMAC_wrapper_generator(n_SMAC, n_MINIZINC)\n",
    "\n",
    "pSMAC_scenario_generator(n_SMAC, param_config_space, cutoff_time, wallclock_limit)\n",
    "\n",
    "cmd = psmac_args(n_SMAC, flag, verbose=False)\n",
    "\n",
    "psamc_exe(cmd, n_SMAC, flag, verbose=False)\n",
    "\n",
    "signal.signal(signal.SIGINT, keyboardInterruptHandler(signal, instanceList))\n",
    "\n",
    "remove_tmp_files(instanceList)"
   ]
  },
  {
   "cell_type": "code",
   "execution_count": 26,
   "metadata": {},
   "outputs": [],
   "source": [
    "from subprocess import Popen, PIPE"
   ]
  },
  {
   "cell_type": "code",
   "execution_count": 24,
   "metadata": {},
   "outputs": [
    {
     "data": {
      "text/plain": [
       "<function _signal.default_int_handler>"
      ]
     },
     "execution_count": 24,
     "metadata": {},
     "output_type": "execute_result"
    }
   ],
   "source": [
    "import signal\n",
    "\n",
    "def keyboardInterruptHandler(signal, instanceList):\n",
    "    print(\"KeyboardInterrupt (ID: {}) has been caught. Cleaning up...\".format(signal))\n",
    "    remove_tmp_files(instanceList)\n",
    "    exit(0)\n",
    "\n",
    "signal.signal(signal.SIGINT, keyboardInterruptHandler)"
   ]
  },
  {
   "cell_type": "code",
   "execution_count": 27,
   "metadata": {},
   "outputs": [],
   "source": [
    "def remove_tmp_files(instanceList):\n",
    "    cmd = 'rm cplex_wrapper* scenario* pre_run_time_check tmpParamRead*' + ' '.join(instanceList)\n",
    "    io = Popen(cmd, shell=True, stdout=PIPE, stderr=PIPE)"
   ]
  },
  {
   "cell_type": "code",
   "execution_count": null,
   "metadata": {},
   "outputs": [],
   "source": []
  }
 ],
 "metadata": {
  "kernelspec": {
   "display_name": "Python 3",
   "language": "python",
   "name": "python3"
  },
  "language_info": {
   "codemirror_mode": {
    "name": "ipython",
    "version": 3
   },
   "file_extension": ".py",
   "mimetype": "text/x-python",
   "name": "python",
   "nbconvert_exporter": "python",
   "pygments_lexer": "ipython3",
   "version": "3.7.0"
  }
 },
 "nbformat": 4,
 "nbformat_minor": 2
}
