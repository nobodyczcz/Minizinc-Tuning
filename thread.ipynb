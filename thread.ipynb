{
 "cells": [
  {
   "cell_type": "code",
   "execution_count": 1,
   "metadata": {},
   "outputs": [],
   "source": [
    "import multiprocessing"
   ]
  },
  {
   "cell_type": "code",
   "execution_count": 9,
   "metadata": {},
   "outputs": [],
   "source": [
    "def process_thread(n_thread=1):\n",
    "    \n",
    "    '''\n",
    "    Compute number of smac that can run in parallel given the user input\n",
    "    '''\n",
    "    \n",
    "    n_cores = multiprocessing.cpu_count() # Get number of threads available in the system\n",
    "    \n",
    "    if n_thread == 1: # Each SMAC occupies one thread\n",
    "        return (n_cores, 1) # Return #SMAC and #thread for Minizinc\n",
    "    elif n_thread < n_cores and n_cores % n_thread == 0: # Each SMAC occupies n_thread specified by user\n",
    "        return (n_cores / n_thread, n_thread) # Return #SMAC and #thread for Minizinc\n",
    "    else:\n",
    "        raise Exception(\"{} threads found in the system. However {} threads specified by user.\".format(n_cores, n_thread))"
   ]
  },
  {
   "cell_type": "code",
   "execution_count": 12,
   "metadata": {},
   "outputs": [
    {
     "ename": "Exception",
     "evalue": "4 threads found in the system. However 14 threads specified by user.",
     "output_type": "error",
     "traceback": [
      "\u001b[0;31m---------------------------------------------------------------------------\u001b[0m",
      "\u001b[0;31mException\u001b[0m                                 Traceback (most recent call last)",
      "\u001b[0;32m<ipython-input-12-51865f18f322>\u001b[0m in \u001b[0;36m<module>\u001b[0;34m\u001b[0m\n\u001b[0;32m----> 1\u001b[0;31m \u001b[0mprocess_thread\u001b[0m\u001b[0;34m(\u001b[0m\u001b[0;36m14\u001b[0m\u001b[0;34m)\u001b[0m\u001b[0;34m\u001b[0m\u001b[0m\n\u001b[0m",
      "\u001b[0;32m<ipython-input-9-251e6b2e32d8>\u001b[0m in \u001b[0;36mprocess_thread\u001b[0;34m(n_thread)\u001b[0m\n\u001b[1;32m     12\u001b[0m         \u001b[0;32mreturn\u001b[0m \u001b[0;34m(\u001b[0m\u001b[0mn_cores\u001b[0m \u001b[0;34m/\u001b[0m \u001b[0mn_thread\u001b[0m\u001b[0;34m,\u001b[0m \u001b[0mn_thread\u001b[0m\u001b[0;34m)\u001b[0m \u001b[0;31m# Return #SMAC and #thread for Minizinc\u001b[0m\u001b[0;34m\u001b[0m\u001b[0m\n\u001b[1;32m     13\u001b[0m     \u001b[0;32melse\u001b[0m\u001b[0;34m:\u001b[0m\u001b[0;34m\u001b[0m\u001b[0m\n\u001b[0;32m---> 14\u001b[0;31m         \u001b[0;32mraise\u001b[0m \u001b[0mException\u001b[0m\u001b[0;34m(\u001b[0m\u001b[0;34m\"{} threads found in the system. However {} threads specified by user.\"\u001b[0m\u001b[0;34m.\u001b[0m\u001b[0mformat\u001b[0m\u001b[0;34m(\u001b[0m\u001b[0mn_cores\u001b[0m\u001b[0;34m,\u001b[0m \u001b[0mn_thread\u001b[0m\u001b[0;34m)\u001b[0m\u001b[0;34m)\u001b[0m\u001b[0;34m\u001b[0m\u001b[0m\n\u001b[0m",
      "\u001b[0;31mException\u001b[0m: 4 threads found in the system. However 14 threads specified by user."
     ]
    }
   ],
   "source": [
    "process_thread(14)"
   ]
  },
  {
   "cell_type": "code",
   "execution_count": null,
   "metadata": {},
   "outputs": [],
   "source": []
  }
 ],
 "metadata": {
  "kernelspec": {
   "display_name": "Python 3",
   "language": "python",
   "name": "python3"
  },
  "language_info": {
   "codemirror_mode": {
    "name": "ipython",
    "version": 3
   },
   "file_extension": ".py",
   "mimetype": "text/x-python",
   "name": "python",
   "nbconvert_exporter": "python",
   "pygments_lexer": "ipython3",
   "version": "3.7.0"
  }
 },
 "nbformat": 4,
 "nbformat_minor": 2
}
